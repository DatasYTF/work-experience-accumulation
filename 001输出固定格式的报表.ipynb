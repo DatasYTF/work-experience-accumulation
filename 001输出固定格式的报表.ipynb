{
 "cells": [
  {
   "cell_type": "markdown",
   "metadata": {},
   "source": [
    "# 作用\n",
    "\n",
    "* 整理现有数据源，并输出指定格式的报表\n",
    "* 2020/07/01\n",
    "* 儒冠多误身"
   ]
  },
  {
   "cell_type": "code",
   "execution_count": 1,
   "metadata": {},
   "outputs": [],
   "source": [
    "import numpy as np\n",
    "import pandas as pd\n",
    "\n",
    "# import modin.pandas as pd"
   ]
  },
  {
   "cell_type": "code",
   "execution_count": 2,
   "metadata": {},
   "outputs": [],
   "source": [
    "# import os\n",
    "\n",
    "# os.environ[\"MODIN_ENGINE\"] = \"dask\"  # Modin will use Dask\n",
    "\n",
    "# import modin.pandas as pd"
   ]
  },
  {
   "cell_type": "markdown",
   "metadata": {},
   "source": [
    "* 读取当天数据"
   ]
  },
  {
   "cell_type": "code",
   "execution_count": 3,
   "metadata": {},
   "outputs": [],
   "source": [
    "# 本次明细\n",
    "df_today_info = pd.read_excel('】001订单明细.xlsx',dtype={'运单号':object,'受理时间':np.datetime64,'发件人手机':object,'发件人电话':object,\n",
    "                                                    '客户批次号':object,'收件人电话':object,'收件人手机':object,'收件区域':object})\n",
    "df_today_info.dropna(subset=['运单号'],inplace=True) # 去除空行\n",
    "df_today_info.rename(columns={'运单号':'运单号'},inplace=True) # 更改字段名\n",
    "df_today_info = df_today_info.sort_values('受理时间') # 升序\n",
    "df_today_info.drop_duplicates(subset=['运单号'],keep='first',inplace=True) # 取首个明细"
   ]
  },
  {
   "cell_type": "code",
   "execution_count": 4,
   "metadata": {},
   "outputs": [],
   "source": [
    "# 凌顶提货\n",
    "df_today_凌顶提货 = pd.read_excel('】002凌顶提货.xlsx',dtype={'运单号':object,'入库时间':np.datetime64})\n",
    "df_today_凌顶提货 = df_today_凌顶提货.query('入库操作站点 == \"凌顶揽众分拨中心\"')\n",
    "df_today_凌顶提货.dropna(subset=['运单号'],inplace=True) # 去除空行\n",
    "df_today_凌顶提货.rename(columns={'运单号':'运单号'},inplace=True) # 更改字段名\n",
    "df_today_凌顶提货 = df_today_凌顶提货.sort_values('入库时间')# 按时间升序\n",
    "df_today_凌顶提货.drop_duplicates(subset=['运单号'],keep='first',inplace=True) # 取首次提货"
   ]
  },
  {
   "cell_type": "code",
   "execution_count": 5,
   "metadata": {},
   "outputs": [],
   "source": [
    "# 奈斯提货\n",
    "df_today_奈斯提货 = pd.read_excel('】003大亨提货.xlsx',dtype={'运单号':object})#,'入库时间':np.datetime64})\n",
    "df_today_奈斯提货.dropna(subset=['运单号'],inplace=True)\n",
    "df_today_奈斯提货.rename(columns={'运单号':'运单号'},inplace=True)\n",
    "df_today_奈斯提货 = df_today_奈斯提货.sort_values('入库时间') # 升序\n",
    "df_today_奈斯提货.drop_duplicates(subset=['运单号'],keep='first',inplace=True)"
   ]
  },
  {
   "cell_type": "code",
   "execution_count": 6,
   "metadata": {},
   "outputs": [],
   "source": [
    "# 凌顶合包\n",
    "df_today_凌顶合包 = pd.read_excel('】004凌顶合包.xlsx',dtype={'运单号':object,'合包时间':np.datetime64})\n",
    "df_today_凌顶合包.dropna(subset=['运单号'],inplace=True) # 去除空行\n",
    "df_today_凌顶合包.rename(columns={'运单号':'运单号'},inplace=True) # 更改字段名\n",
    "df_today_凌顶合包 = df_today_凌顶合包.sort_values('合包时间')\n",
    "df_today_凌顶合包.drop_duplicates(subset=['运单号'],keep='first',inplace=True) #"
   ]
  },
  {
   "cell_type": "code",
   "execution_count": 7,
   "metadata": {},
   "outputs": [
    {
     "data": {
      "text/html": [
       "<div>\n",
       "<style scoped>\n",
       "    .dataframe tbody tr th:only-of-type {\n",
       "        vertical-align: middle;\n",
       "    }\n",
       "\n",
       "    .dataframe tbody tr th {\n",
       "        vertical-align: top;\n",
       "    }\n",
       "\n",
       "    .dataframe thead th {\n",
       "        text-align: right;\n",
       "    }\n",
       "</style>\n",
       "<table border=\"1\" class=\"dataframe\">\n",
       "  <thead>\n",
       "    <tr style=\"text-align: right;\">\n",
       "      <th></th>\n",
       "      <th>运单号</th>\n",
       "      <th>合包号</th>\n",
       "      <th>合包人工号</th>\n",
       "      <th>合包单位</th>\n",
       "      <th>合包时间</th>\n",
       "      <th>修改人</th>\n",
       "      <th>分单站点</th>\n",
       "      <th>修改单位</th>\n",
       "      <th>修改时间</th>\n",
       "      <th>合包备注(可编辑)</th>\n",
       "    </tr>\n",
       "  </thead>\n",
       "  <tbody>\n",
       "  </tbody>\n",
       "</table>\n",
       "</div>"
      ],
      "text/plain": [
       "Empty DataFrame\n",
       "Columns: [运单号, 合包号, 合包人工号, 合包单位, 合包时间, 修改人, 分单站点, 修改单位, 修改时间, 合包备注(可编辑)]\n",
       "Index: []"
      ]
     },
     "execution_count": 7,
     "metadata": {},
     "output_type": "execute_result"
    }
   ],
   "source": [
    "df_today_奈斯合包 = pd.read_excel('】005数码奈斯合包.xlsx') # 奈斯一般不合包，故读取时未指定运单号字段的数据类型\n",
    "df_today_奈斯合包.dropna(subset=['运单号'],inplace=True)\n",
    "df_today_奈斯合包.rename(columns={'运单号':'运单号'},inplace=True)\n",
    "df_today_奈斯合包 = df_today_奈斯合包.sort_values('合包时间')\n",
    "df_today_奈斯合包.drop_duplicates(subset=['运单号'],keep='first',inplace=True)"
   ]
  },
  {
   "cell_type": "code",
   "execution_count": 8,
   "metadata": {},
   "outputs": [],
   "source": [
    "# 凌顶发件\n",
    "df_today_凌顶发件 = pd.read_excel('】006凌顶发件.xlsx',dtype={'配载编号':object,'运单号':object,'发件时间':np.datetime64,'车牌号':object,'发车时间':object,'班车属性':object,'班线名称':object})\n",
    "df_today_凌顶发件.dropna(subset=['运单号'],inplace=True) # 去空行\n",
    "df_today_凌顶发件.rename(columns={'运单号':'运单号'},inplace=True) # 重命名\n",
    "df_today_凌顶发件 = df_today_凌顶发件.sort_values('发件时间')\n",
    "df_凌顶本次发件 = df_today_凌顶发件.drop_duplicates(subset=['运单号','发件时间'],keep='last')\n",
    "# df_凌顶首次发件 = df_today_凌顶发件.drop_duplicates(subset=['订单号'],keep='first')\n",
    "# df_凌顶最近发件 = df_today_凌顶发件.drop_duplicates(subset=['订单号'],keep='last')"
   ]
  },
  {
   "cell_type": "code",
   "execution_count": 9,
   "metadata": {},
   "outputs": [
    {
     "data": {
      "text/html": [
       "<div>\n",
       "<style scoped>\n",
       "    .dataframe tbody tr th:only-of-type {\n",
       "        vertical-align: middle;\n",
       "    }\n",
       "\n",
       "    .dataframe tbody tr th {\n",
       "        vertical-align: top;\n",
       "    }\n",
       "\n",
       "    .dataframe thead th {\n",
       "        text-align: right;\n",
       "    }\n",
       "</style>\n",
       "<table border=\"1\" class=\"dataframe\">\n",
       "  <thead>\n",
       "    <tr style=\"text-align: right;\">\n",
       "      <th></th>\n",
       "      <th>配载编号</th>\n",
       "      <th>运单号</th>\n",
       "      <th>班线名称</th>\n",
       "      <th>车牌号</th>\n",
       "      <th>班车属性</th>\n",
       "      <th>发车时间</th>\n",
       "      <th>发件操作人</th>\n",
       "      <th>接收站点</th>\n",
       "      <th>接收状态</th>\n",
       "      <th>运输方式</th>\n",
       "      <th>物品价值</th>\n",
       "      <th>发件站点</th>\n",
       "      <th>发件时间</th>\n",
       "    </tr>\n",
       "  </thead>\n",
       "  <tbody>\n",
       "  </tbody>\n",
       "</table>\n",
       "</div>"
      ],
      "text/plain": [
       "Empty DataFrame\n",
       "Columns: [配载编号, 运单号, 班线名称, 车牌号, 班车属性, 发车时间, 发件操作人, 接收站点, 接收状态, 运输方式, 物品价值, 发件站点, 发件时间]\n",
       "Index: []"
      ]
     },
     "execution_count": 9,
     "metadata": {},
     "output_type": "execute_result"
    }
   ],
   "source": [
    "df_today_奈斯发件 = pd.read_excel('】007大亨发件.xlsx',dtype={'配载编号':object,'运单号':object})#,'发件时间':np.datetime64,'车牌号':object,'发车时间':object,'班车属性':object,'班线名称':object})\n",
    "df_today_奈斯发件.dropna(subset=['运单号'],inplace=True)\n",
    "df_today_奈斯发件.rename(columns={'运单号':'运单号'},inplace=True)\n",
    "df_today_奈斯发件 = df_today_奈斯发件.sort_values('发件时间')\n",
    "df_today_奈斯发件.drop_duplicates(subset=['运单号','发件时间'],keep='last',inplace=True)"
   ]
  },
  {
   "cell_type": "code",
   "execution_count": 10,
   "metadata": {},
   "outputs": [],
   "source": [
    "df_today_凌顶到件 = pd.read_excel('】008凌顶到件.xlsx',dtype={'运单号':object})\n",
    "df_today_凌顶到件.dropna(subset=['运单号'],inplace=True)\n",
    "df_today_凌顶到件 = df_today_凌顶到件.query('扫描站点 == \"凌顶揽众分拨中心\"')\n",
    "df_today_凌顶到件.rename(columns={'运单号':'运单号'},inplace=True)\n",
    "df_today_凌顶到件 = df_today_凌顶到件.sort_values('扫描时间')\n",
    "df_today_凌顶到件.drop_duplicates(subset=['运单号','扫描时间'],keep='first',inplace=True) # 今日"
   ]
  },
  {
   "cell_type": "code",
   "execution_count": 11,
   "metadata": {},
   "outputs": [
    {
     "data": {
      "text/html": [
       "<div>\n",
       "<style scoped>\n",
       "    .dataframe tbody tr th:only-of-type {\n",
       "        vertical-align: middle;\n",
       "    }\n",
       "\n",
       "    .dataframe tbody tr th {\n",
       "        vertical-align: top;\n",
       "    }\n",
       "\n",
       "    .dataframe thead th {\n",
       "        text-align: right;\n",
       "    }\n",
       "</style>\n",
       "<table border=\"1\" class=\"dataframe\">\n",
       "  <thead>\n",
       "    <tr style=\"text-align: right;\">\n",
       "      <th></th>\n",
       "      <th>确认</th>\n",
       "      <th>运单号</th>\n",
       "      <th>扫描站点</th>\n",
       "      <th>扫描人</th>\n",
       "      <th>扫描时间</th>\n",
       "      <th>结算方式</th>\n",
       "      <th>到件类型</th>\n",
       "      <th>签收状态</th>\n",
       "      <th>客户名称</th>\n",
       "      <th>代收款</th>\n",
       "      <th>物品价值</th>\n",
       "    </tr>\n",
       "  </thead>\n",
       "  <tbody>\n",
       "  </tbody>\n",
       "</table>\n",
       "</div>"
      ],
      "text/plain": [
       "Empty DataFrame\n",
       "Columns: [确认, 运单号, 扫描站点, 扫描人, 扫描时间, 结算方式, 到件类型, 签收状态, 客户名称, 代收款, 物品价值]\n",
       "Index: []"
      ]
     },
     "execution_count": 11,
     "metadata": {},
     "output_type": "execute_result"
    }
   ],
   "source": [
    "df_today_自取到件 = pd.read_excel('】009自取到件.xlsx',dtype={'运单号':object})\n",
    "df_today_自取到件.dropna(subset=['运单号'],inplace=True)\n",
    "df_today_自取到件.rename(columns={'运单号':'运单号'},inplace=True)\n",
    "df_today_自取到件 = df_today_自取到件.sort_values('扫描时间')\n",
    "df_today_自取到件.drop_duplicates(subset=['运单号'],keep='last',inplace=True) # 最后到件"
   ]
  },
  {
   "cell_type": "code",
   "execution_count": 12,
   "metadata": {},
   "outputs": [],
   "source": [
    "df_today_自取派件 = pd.read_excel('】010自取派件.xlsx',dtype={'派送清单编号':object,'派件扫描时间':np.datetime64,'运单号':object,' 收件人手机':object})\n",
    "df_today_自取派件.dropna(subset=['运单号'],inplace=True)\n",
    "df_today_自取派件.rename(columns={'运单号':'运单号'},inplace=True)\n",
    "df_today_自取派件 = df_today_自取派件.sort_values('派件扫描时间')\n",
    "df_today_自取派件.drop_duplicates(subset=['运单号'],keep='last',inplace=True) # 最后派件"
   ]
  },
  {
   "cell_type": "code",
   "execution_count": 13,
   "metadata": {},
   "outputs": [],
   "source": [
    "df_today_自取签收 = pd.read_excel('】011自取签收.xlsx',dtype={'运单号':object,'签收时间':np.datetime64})\n",
    "df_today_自取签收.dropna(subset=['运单号'],inplace=True)\n",
    "df_today_自取签收.rename(columns={'运单号':'运单号'},inplace=True)\n",
    "df_today_自取签收 = df_today_自取签收.sort_values('签收时间')\n",
    "df_today_自取签收.drop_duplicates(subset=['运单号'],keep='first',inplace=True)"
   ]
  },
  {
   "cell_type": "code",
   "execution_count": 14,
   "metadata": {},
   "outputs": [],
   "source": [
    "df_today_自取问题件 = pd.read_excel('】012自取问题件.xlsx',dtype={'运单号':object,'运单受理时间':np.datetime64,'扫描时间':np.datetime64,'处理结果':object})\n",
    "df_today_自取问题件.drop(['订单号'],axis=1, inplace=True)\n",
    "df_today_自取问题件.dropna(subset=['运单号'],inplace=True)\n",
    "df_today_自取问题件.rename(columns={'运单号':'运单号'},inplace=True)\n",
    "df_today_自取问题件 = df_today_自取问题件.sort_values('扫描时间')\n",
    "df_today_自取问题件.drop_duplicates(subset=['运单号'],keep='first',inplace=True)"
   ]
  },
  {
   "cell_type": "code",
   "execution_count": 15,
   "metadata": {},
   "outputs": [],
   "source": [
    "df_today_顺丰 = pd.read_excel('】013顺丰.xlsx',dtype={'运单号':object})#,'录入时间':np.datetime64,'备注':object,'快递公司运单号':object})\n",
    "df_today_韵达 = pd.read_excel('】014韵达.xlsx',dtype={'运单号':object})#,'录入时间':np.datetime64,'备注':object,'快递公司运单号':object})\n",
    "df_today_中通 = pd.read_excel('】015中通.xlsx',dtype={'运单号':object})#,'录入时间':np.datetime64,'备注':object,'快递公司运单号':object})\n",
    "df_today_黑豹 = pd.read_excel('】016黑豹.xlsx',dtype={'运单号':object})#,'录入时间':np.datetime64,'备注':object,'快递公司运单号':object})\n",
    "df_today_德邦 = pd.read_excel('】016德邦.xlsx',dtype={'运单号':object})#,'录入时间':np.datetime64,'备注':object,'快递公司运单号':object})\n",
    "df_today_达发 = pd.read_excel('】016达发.xlsx',dtype={'运单号':object})#,'录入时间':np.datetime64,'备注':object,'快递公司运单号':object})\n",
    "df_today_宇鑫 = pd.read_excel('】016宇鑫.xlsx',dtype={'运单号':object})#,'录入时间':np.datetime64,'备注':object,'快递公司运单号':object})\n",
    "\n",
    "df_today_顺丰.dropna(subset=['运单号'],inplace=True)\n",
    "df_today_韵达.dropna(subset=['运单号'],inplace=True)\n",
    "df_today_中通.dropna(subset=['运单号'],inplace=True)\n",
    "df_today_黑豹.dropna(subset=['运单号'],inplace=True)\n",
    "df_today_德邦.dropna(subset=['运单号'],inplace=True)\n",
    "\n",
    "df_today_顺丰.rename(columns={'运单号':'运单号'},inplace=True)\n",
    "df_today_中通.rename(columns={'运单号':'运单号'},inplace=True)\n",
    "df_today_韵达.rename(columns={'运单号':'运单号'},inplace=True)\n",
    "df_today_黑豹.rename(columns={'运单号':'运单号'},inplace=True)\n",
    "df_today_德邦.rename(columns={'运单号':'运单号'},inplace=True)\n",
    "\n",
    "df_today_顺丰 = df_today_顺丰.sort_values('录入时间')\n",
    "df_today_顺丰.drop_duplicates(subset=['运单号','快递公司运单号','快递公司名称'],keep='first',inplace=True)\n",
    "df_today_中通 = df_today_中通.sort_values('录入时间')\n",
    "df_today_中通.drop_duplicates(subset=['运单号','快递公司运单号','快递公司名称'],keep='first',inplace=True)\n",
    "df_today_韵达 = df_today_韵达.sort_values('录入时间')\n",
    "df_today_韵达.drop_duplicates(subset=['运单号','快递公司运单号','快递公司名称'],keep='first',inplace=True)\n",
    "df_today_黑豹 = df_today_黑豹.sort_values('录入时间')\n",
    "df_today_黑豹.drop_duplicates(subset=['运单号','快递公司运单号','快递公司名称'],keep='first',inplace=True)\n",
    "df_today_德邦 = df_today_德邦.sort_values('录入时间')\n",
    "df_today_德邦.drop_duplicates(subset=['运单号','快递公司运单号','快递公司名称'],keep='first',inplace=True)"
   ]
  },
  {
   "cell_type": "code",
   "execution_count": 16,
   "metadata": {},
   "outputs": [],
   "source": [
    "df_today_全部到件 = pd.read_excel('】017全部到件.xlsx',dtype={'运单号':object,'扫描时间':np.datetime64})\n",
    "df_today_全部到件.dropna(subset=['运单号'],inplace=True)\n",
    "df_today_全部到件.rename(columns={'运单号':'运单号'},inplace=True)\n",
    "df_today_全部到件 = df_today_全部到件.sort_values('扫描时间')\n",
    "df_today_全部到件.drop_duplicates(subset=['运单号','扫描时间','扫描站点'],keep='first',inplace=True)"
   ]
  },
  {
   "cell_type": "code",
   "execution_count": 17,
   "metadata": {},
   "outputs": [],
   "source": [
    "# df_today_班车装卸 = pd.read_excel('】018装车卸车.xlsx',dtype={'单号':'object'})\n",
    "# df_today_班车装卸.dropna(subset=['单号'],inplace=True)\n",
    "# df_today_班车装卸['单号'] = df_today_班车装卸['单号'].astype(np.int64).astype(str)\n",
    "# df_today_班车装卸.rename(columns={'单号':'运单号'},inplace=True)\n",
    "# df_today_班车装卸 = df_today_班车装卸.sort_values('装车时间')\n",
    "# df_today_班车装卸.drop_duplicates(subset=['运单号'],keep='first',inplace=True)"
   ]
  },
  {
   "cell_type": "code",
   "execution_count": 18,
   "metadata": {},
   "outputs": [],
   "source": [
    "df_today_三方 = pd.concat([df_today_顺丰,df_today_韵达,df_today_中通,df_today_黑豹,df_today_德邦])\n",
    "df_today_三方 = df_today_三方.sort_values('录入时间')\n",
    "df_today_三方.drop_duplicates(subset=['运单号','快递公司运单号','快递公司名称'],keep='first',inplace=True)"
   ]
  },
  {
   "cell_type": "markdown",
   "metadata": {},
   "source": [
    "* 读取历史数据"
   ]
  },
  {
   "cell_type": "markdown",
   "metadata": {},
   "source": [
    "* 读取历史数据"
   ]
  },
  {
   "cell_type": "code",
   "execution_count": 19,
   "metadata": {},
   "outputs": [],
   "source": [
    "df_had_info = pd.read_excel('./历史/】001订单明细.xlsx',dtype={'运单号':object,'受理时间':np.datetime64,'发件人手机':object,'发件人电话':object,\n",
    "                                                    '客户批次号':object,'收件人电话':object,'收件人手机':object,'收件区域':object})\n",
    "df_had_info.dropna(subset=['运单号'],inplace=True)\n",
    "\n",
    "\n",
    "df_had_凌顶提货 = pd.read_excel('./历史/】002凌顶提货.xlsx',dtype={'运单号':object,'入库时间':np.datetime64})\n",
    "df_had_凌顶提货.dropna(subset=['运单号'],inplace=True)\n",
    "\n",
    "\n",
    "df_had_奈斯提货 = pd.read_excel('./历史/】003大亨提货.xlsx',dtype={'运单号':object})#,'入库时间':np.datetime64})\n",
    "df_had_奈斯提货.dropna(subset=['运单号'],inplace=True)\n",
    "\n",
    "\n",
    "df_had_凌顶合包 = pd.read_excel('./历史/】004凌顶合包.xlsx',dtype={'运单号':object,'合包时间':np.datetime64})\n",
    "df_had_凌顶合包.dropna(subset=['运单号'],inplace=True)\n",
    "\n",
    "\n",
    "df_had_奈斯合包 = pd.read_excel('./历史/】005数码奈斯合包.xlsx',dtype={'运单号':object})\n",
    "df_had_奈斯合包.dropna(subset=['运单号'],inplace=True)\n"
   ]
  },
  {
   "cell_type": "code",
   "execution_count": 20,
   "metadata": {},
   "outputs": [],
   "source": [
    "df_had_凌顶发件 = pd.read_excel('./历史/】006凌顶发件.xlsx',dtype={'配载编号':object,'运单号':object,'发件时间':np.datetime64,'车牌号':object,'发车时间':object,'班车属性':object,'班线名称':object})\n",
    "df_had_凌顶发件.dropna(subset=['运单号'],inplace=True)\n",
    "\n",
    "\n",
    "df_had_奈斯发件 = pd.read_excel('./历史/】007大亨发件.xlsx',dtype={'配载编号':object,'运单号':object})#,'发件时间':np.datetime64,'车牌号':object,'发车时间':object,'班车属性':object,'班线名称':object})\n",
    "df_had_奈斯发件.dropna(subset=['运单号'],inplace=True)\n",
    "\n",
    "\n",
    "df_had_凌顶到件 = pd.read_excel('./历史/】008凌顶到件.xlsx',dtype={'运单号':object})\n",
    "df_had_凌顶到件.dropna(subset=['运单号'],inplace=True)\n",
    "\n",
    "\n",
    "df_had_自取到件 = pd.read_excel('./历史/】009自取到件.xlsx',dtype={'运单号':object})\n",
    "df_had_自取到件.dropna(subset=['运单号'],inplace=True)\n",
    "\n",
    "\n",
    "df_had_自取派件 = pd.read_excel('./历史/】010自取派件.xlsx',dtype={'派送清单编号':object,'派件扫描时间':np.datetime64,'运单号':object,' 收件人手机':object})\n",
    "df_had_自取派件.dropna(subset=['运单号'],inplace=True)\n",
    "\n",
    "\n",
    "df_had_自取签收 = pd.read_excel('./历史/】011自取签收.xlsx',dtype={'运单号':object,'签收时间':np.datetime64})\n",
    "df_had_自取签收.dropna(subset=['运单号'],inplace=True)\n",
    "\n",
    "\n",
    "df_had_自取问题件 = pd.read_excel('./历史/】012自取问题件.xlsx',dtype={'运单号':object,'运单受理时间':np.datetime64,'扫描时间':np.datetime64,'处理结果':object})\n",
    "df_had_自取问题件.dropna(subset=['运单号'],inplace=True)"
   ]
  },
  {
   "cell_type": "code",
   "execution_count": 21,
   "metadata": {},
   "outputs": [],
   "source": [
    "df_had_顺丰 = pd.read_excel('./历史/】013顺丰.xlsx',dtype={'运单号':object,'录入时间':np.datetime64,'备注':object,'快递公司运单号':object})\n",
    "df_had_顺丰.dropna(subset=['运单号'],inplace=True)\n",
    "\n",
    "\n",
    "df_had_韵达 = pd.read_excel('./历史/】014韵达.xlsx',dtype={'运单号':object,'录入时间':np.datetime64,'备注':object,'快递公司运单号':object})\n",
    "df_had_韵达.dropna(subset=['运单号'],inplace=True)\n",
    "\n",
    "\n",
    "df_had_中通 = pd.read_excel('./历史/】015中通.xlsx',dtype={'运单号':object,'录入时间':np.datetime64,'备注':object,'快递公司运单号':object})\n",
    "df_had_中通.dropna(subset=['运单号'],inplace=True)\n",
    "\n",
    "\n",
    "df_had_黑豹 = pd.read_excel('./历史/】016黑豹.xlsx',dtype={'运单号':object,'录入时间':np.datetime64,'备注':object,'快递公司运单号':object})\n",
    "df_had_黑豹.dropna(subset=['运单号'],inplace=True)\n",
    "\n",
    "df_had_德邦 = pd.read_excel('./历史/】016德邦.xlsx',dtype={'运单号':object,'录入时间':np.datetime64,'备注':object,'快递公司运单号':object})\n",
    "df_had_德邦.dropna(subset=['运单号'],inplace=True)\n",
    "\n",
    "\n",
    "df_had_达发 = pd.read_excel('./历史/】016达发.xlsx',dtype={'运单号':object,'录入时间':np.datetime64,'备注':object,'快递公司运单号':object})\n",
    "df_had_达发.dropna(subset=['运单号'],inplace=True)\n",
    "\n",
    "df_had_宇鑫 = pd.read_excel('./历史/】016宇鑫.xlsx',dtype={'运单号':object,'录入时间':np.datetime64,'备注':object,'快递公司运单号':object})\n",
    "df_had_宇鑫.dropna(subset=['运单号'],inplace=True)\n",
    "\n",
    "df_had_全部到件 = pd.read_excel('./历史/】017全部到件.xlsx',dtype={'运单号':object,\"扫描时间\":np.datetime64})\n",
    "df_had_全部到件.dropna(subset=['运单号'],inplace=True)\n",
    "\n",
    "\n",
    "# df_had_装卸 = pd.read_excel('./历史/】018装车卸车.xlsx',dtype={'运单号':object})\n",
    "# df_had_装卸.dropna(subset=['运单号'],inplace=True)"
   ]
  },
  {
   "cell_type": "markdown",
   "metadata": {},
   "source": [
    "- 拼接"
   ]
  },
  {
   "cell_type": "code",
   "execution_count": 22,
   "metadata": {},
   "outputs": [],
   "source": [
    "data_info = pd.concat([df_today_info,df_had_info])\n",
    "data_凌顶提货 = pd.concat([df_today_凌顶提货,df_had_凌顶提货])\n",
    "data_奈斯提货 = pd.concat([df_today_奈斯提货,df_had_奈斯提货])\n",
    "data_凌顶合包 = pd.concat([df_today_凌顶合包,df_had_凌顶合包])\n",
    "data_奈斯合包 = pd.concat([df_today_奈斯合包,df_had_奈斯合包])\n",
    "data_凌顶发件 = pd.concat([df_today_凌顶发件,df_had_凌顶发件])\n",
    "data_奈斯发件 = pd.concat([df_today_奈斯发件,df_had_奈斯发件])\n",
    "data_凌顶到件 = pd.concat([df_today_凌顶到件,df_had_凌顶到件])\n",
    "data_自取到件 = pd.concat([df_today_自取到件,df_had_自取到件])\n",
    "data_自取派件 = pd.concat([df_today_自取派件,df_had_自取派件])\n",
    "data_自取签收 = pd.concat([df_today_自取签收,df_had_自取签收])\n",
    "data_自取问题件 = pd.concat([df_today_自取问题件,df_had_自取问题件])\n",
    "data_顺丰 = pd.concat([df_today_顺丰,df_had_顺丰])\n",
    "data_韵达 = pd.concat([df_today_韵达,df_had_韵达])\n",
    "data_中通 = pd.concat([df_today_中通,df_had_中通])\n",
    "data_黑豹 = pd.concat([df_today_黑豹,df_had_黑豹])\n",
    "data_德邦 = pd.concat([df_today_德邦,df_had_德邦])\n",
    "data_达发 = pd.concat([df_today_达发,df_had_达发])\n",
    "data_宇鑫 = pd.concat([df_today_宇鑫,df_had_宇鑫])\n",
    "data_全部到件 = pd.concat([df_today_全部到件,df_had_全部到件])\n",
    "# data_装卸 = pd.concat([df_today_班车装卸,df_had_装卸])"
   ]
  },
  {
   "cell_type": "markdown",
   "metadata": {},
   "source": [
    "* 依据各自所需条件——去重"
   ]
  },
  {
   "cell_type": "code",
   "execution_count": 23,
   "metadata": {},
   "outputs": [],
   "source": [
    "data_奈斯提货['入库时间']=data_奈斯提货['入库时间'].astype(np.datetime64)\n",
    "data_奈斯发件['发件时间']=data_奈斯发件['发件时间'].astype(np.datetime64)\n",
    "data_顺丰['录入时间'] = data_顺丰['录入时间'].astype(np.datetime64) \n",
    "data_韵达['录入时间'] = data_韵达['录入时间'].astype(np.datetime64)\n",
    "data_中通['录入时间'] = data_中通['录入时间'].astype(np.datetime64)\n",
    "data_黑豹['录入时间'] = data_黑豹['录入时间'].astype(np.datetime64)\n",
    "data_德邦['录入时间'] = data_德邦['录入时间'].astype(np.datetime64)\n",
    "data_达发['录入时间'] = data_达发['录入时间'].astype(np.datetime64)\n",
    "data_宇鑫['录入时间'] = data_宇鑫['录入时间'].astype(np.datetime64)"
   ]
  },
  {
   "cell_type": "code",
   "execution_count": 24,
   "metadata": {},
   "outputs": [],
   "source": [
    "data_info.drop_duplicates(subset=['运单号'],keep='first',inplace=True)\n",
    "data_凌顶提货.sort_values('入库时间',inplace=True)\n",
    "data_奈斯提货.sort_values('入库时间',inplace=True)\n",
    "data_凌顶合包.sort_values('合包时间',inplace=True)\n",
    "data_奈斯合包.sort_values('合包时间',inplace=True)\n",
    "data_凌顶提货.drop_duplicates(subset=['运单号'],keep='first',inplace=True)\n",
    "data_奈斯提货.drop_duplicates(subset=['运单号'],keep='first',inplace=True)\n",
    "data_凌顶合包.drop_duplicates(subset=['运单号'],keep='first',inplace=True)\n",
    "data_奈斯合包.drop_duplicates(subset=['运单号'],keep='first',inplace=True)\n",
    "\n",
    "\n",
    "data_凌顶发件.sort_values('发件时间',inplace=True)\n",
    "data_奈斯发件.sort_values('发件时间',inplace=True)\n",
    "data_凌顶到件.sort_values('扫描时间',inplace=True)\n",
    "data_自取到件.sort_values('扫描时间',inplace=True)\n",
    "data_自取派件.sort_values('派件扫描时间',inplace=True)\n",
    "data_自取签收.sort_values('签收时间',inplace=True)\n",
    "data_凌顶发件.drop_duplicates(subset=['运单号','发件时间'],keep='last',inplace=True)\n",
    "data_奈斯发件.drop_duplicates(subset=['运单号','发件时间'],keep='last',inplace=True)\n",
    "data_凌顶到件.drop_duplicates(subset=['运单号','扫描时间'],keep='last',inplace=True)\n",
    "data_自取到件.drop_duplicates(subset=['运单号'],keep='last',inplace=True)\n",
    "data_自取派件.drop_duplicates(subset=['运单号'],keep='last',inplace=True)\n",
    "data_自取签收.drop_duplicates(subset=['运单号'],keep='first',inplace=True)\n",
    "data_自取问题件.drop_duplicates(subset=['运单号'],keep='first',inplace=True)\n",
    "data_顺丰.sort_values('录入时间',inplace=True)\n",
    "data_韵达.sort_values('录入时间',inplace=True)\n",
    "data_中通.sort_values('录入时间',inplace=True)\n",
    "data_黑豹.sort_values('录入时间',inplace=True)\n",
    "data_德邦.sort_values('录入时间',inplace=True)\n",
    "data_宇鑫.sort_values('录入时间',inplace=True)\n",
    "data_达发.sort_values('录入时间',inplace=True)\n",
    "data_顺丰.drop_duplicates(subset=['运单号','快递公司运单号','快递公司名称'],keep='first',inplace=True)\n",
    "data_韵达.drop_duplicates(subset=['运单号','快递公司运单号','快递公司名称'],keep='first',inplace=True)\n",
    "data_中通.drop_duplicates(subset=['运单号','快递公司运单号','快递公司名称'],keep='first',inplace=True)\n",
    "data_黑豹.drop_duplicates(subset=['运单号','快递公司运单号','快递公司名称'],keep='first',inplace=True)\n",
    "data_德邦.drop_duplicates(subset=['运单号','快递公司运单号','快递公司名称'],keep='first',inplace=True)\n",
    "data_达发.drop_duplicates(subset=['运单号','快递公司运单号','快递公司名称'],keep='first',inplace=True)\n",
    "data_宇鑫.drop_duplicates(subset=['运单号','快递公司运单号','快递公司名称'],keep='first',inplace=True)\n",
    "data_全部到件.drop_duplicates(subset=['运单号','扫描站点','扫描时间'],keep='last',inplace=True)\n",
    "# data_装卸.drop_duplicates(subset=['运单号'],keep='first',inplace=True)"
   ]
  },
  {
   "cell_type": "markdown",
   "metadata": {},
   "source": [
    "* 导出"
   ]
  },
  {
   "cell_type": "code",
   "execution_count": 25,
   "metadata": {},
   "outputs": [],
   "source": [
    "# data_info.to_excel('./》01汇出/】001订单明细.xlsx',index=False,encoding='gbk') # 明细\n",
    "# data_凌顶提货.to_excel('./》01汇出/】002凌顶提货.xlsx',index=False,encoding='gbk') # 明细\n",
    "# data_奈斯提货.to_excel('./》01汇出/】003数码奈斯提货.xlsx',index=False,encoding='gbk') # 明细\n",
    "# data_凌顶合包.to_excel('./》01汇出/】004凌顶合包.xlsx',index=False,encoding='gbk') # 明细\n",
    "# data_奈斯合包.to_excel('./》01汇出/】005数码奈斯合包.xlsx',index=False,encoding='gbk') # 明细\n",
    "# data_凌顶发件.to_excel('./》01汇出/】006凌顶发件.xlsx',index=False,encoding='gbk') # 明细\n",
    "# data_奈斯发件.to_excel('./》01汇出/】007数码奈斯发件.xlsx',index=False,encoding='gbk') # 明细\n",
    "# data_凌顶到件.to_excel('./》01汇出/】008凌顶到件.xlsx',index=False,encoding='gbk') # 明细\n",
    "# data_自取到件.to_excel('./》01汇出/】009自取到件.xlsx',index=False,encoding='gbk') # 明细\n",
    "# data_自取派件.to_excel('./》01汇出/】010自取派件.xlsx',index=False,encoding='gbk') # 明细\n",
    "# data_自取签收.to_excel('./》01汇出/】011自取签收.xlsx',index=False,encoding='gbk') # 明细\n",
    "# data_自取问题件.to_excel('./》01汇出/】012自取问题件.xlsx',index=False,encoding='gbk') # 明细\n",
    "# data_顺丰.to_excel('./》01汇出/】013顺丰.xlsx',index=False,encoding='gbk') # 明细\n",
    "# data_韵达.to_excel('./》01汇出/】014韵达.xlsx',index=False,encoding='gbk') # 明细\n",
    "# data_中通.to_excel('./》01汇出/】015中通.xlsx',index=False,encoding='gbk') # 明细\n",
    "# data_黑豹.to_excel('./》01汇出/】016黑豹.xlsx',index=False,encoding='gbk') # 明细\n",
    "# data_全部到件.to_excel('./》01汇出/】017全部到件.xlsx',index=False,encoding='gbk') # 明细\n",
    "# data_装卸.to_excel('./》01汇出/】018装车卸车.xlsx',index=False,encoding='gbk') # 明细"
   ]
  },
  {
   "cell_type": "markdown",
   "metadata": {},
   "source": [
    "# 台账"
   ]
  },
  {
   "cell_type": "code",
   "execution_count": 26,
   "metadata": {},
   "outputs": [],
   "source": [
    "df_today_凌顶发件.sort_values('发件时间',inplace=True)# 升序\n",
    "df_today_凌顶发件.drop_duplicates('运单号',keep='last',inplace=True)# 取第一次发件"
   ]
  },
  {
   "cell_type": "code",
   "execution_count": 27,
   "metadata": {},
   "outputs": [],
   "source": [
    "df_today_凌顶到件 = df_today_凌顶到件.merge(data_info[['运单号',\"货物名称\"]],on=\"运单号\",how='left')\n",
    "df_today_凌顶到件['大类']  = df_today_凌顶到件['货物名称'].str[:2]"
   ]
  },
  {
   "cell_type": "code",
   "execution_count": 28,
   "metadata": {},
   "outputs": [],
   "source": [
    "# 今日数码到件\n",
    "df_today_今日数码到件 = df_today_凌顶到件.query('大类==\"喷画\"').copy()\n",
    "df_today_今日数码到件.sort_values('扫描时间',inplace=True)\n",
    "df_today_今日数码到件.drop_duplicates('运单号',keep='last',inplace=True)\n",
    "df_today_今日数码到件['今日数码到仓']=\"1\""
   ]
  },
  {
   "cell_type": "code",
   "execution_count": 29,
   "metadata": {},
   "outputs": [],
   "source": [
    "df_today_今日数码到件.rename(columns={'扫描人':'今日数码到仓扫描人',\"扫描时间\":\"今日数码到仓时间\"},inplace=True)"
   ]
  },
  {
   "cell_type": "code",
   "execution_count": 30,
   "metadata": {},
   "outputs": [],
   "source": [
    "data_凌顶到件 = data_凌顶到件.merge(data_info[['运单号',\"货物名称\"]],on=\"运单号\",how='left')\n",
    "data_凌顶到件['大类']  = data_凌顶到件['货物名称'].str[:2]"
   ]
  },
  {
   "cell_type": "code",
   "execution_count": 31,
   "metadata": {},
   "outputs": [],
   "source": [
    "# 所有数码到件\n",
    "df_数码到件 = data_凌顶到件.query('大类==\"喷画\"').copy()\n",
    "df_数码到件.sort_values('扫描时间',inplace=True)\n",
    "df_数码到件.drop_duplicates('运单号',keep='last',inplace=True)\n",
    "df_数码到件['所有数码到仓']=\"1\""
   ]
  },
  {
   "cell_type": "code",
   "execution_count": 32,
   "metadata": {},
   "outputs": [],
   "source": [
    "df_数码到件.rename(columns={'扫描人':'所有数码到仓扫描人',\"扫描时间\":\"所有数码到仓时间\"},inplace=True)"
   ]
  },
  {
   "cell_type": "code",
   "execution_count": null,
   "metadata": {},
   "outputs": [],
   "source": []
  },
  {
   "cell_type": "markdown",
   "metadata": {},
   "source": []
  },
  {
   "cell_type": "code",
   "execution_count": 33,
   "metadata": {},
   "outputs": [],
   "source": [
    "data_三方 = pd.concat([data_顺丰,data_韵达,data_中通,data_黑豹,data_德邦,data_达发,data_宇鑫])\n",
    "data_三方 = data_三方.sort_values('录入时间')\n",
    "data_三方.drop_duplicates(subset=['运单号'],keep='last',inplace=True)\n",
    "\n",
    "data_三方 = data_三方[['运单号','快递公司运单号','快递公司名称','录入时间','录入人','录入站点']]"
   ]
  },
  {
   "cell_type": "markdown",
   "metadata": {},
   "source": [
    "**关联**"
   ]
  },
  {
   "cell_type": "code",
   "execution_count": 34,
   "metadata": {},
   "outputs": [],
   "source": [
    "data_网点到件 = data_全部到件.query('扫描站点 != \"总公司\"&扫描站点 != \"凌顶中心客服办\"&扫描站点 != \"凌顶揽众分拨中心\"')\n",
    "data_网点到件 = data_网点到件.sort_values(by=['扫描时间'])\n",
    "data_网点到件.drop_duplicates(subset=['运单号'],keep='last',inplace=True)\n",
    "data_网点到件 = data_网点到件[['运单号','扫描站点','扫描人','扫描时间']]"
   ]
  },
  {
   "cell_type": "code",
   "execution_count": 35,
   "metadata": {},
   "outputs": [],
   "source": [
    "发件= data_凌顶发件.sort_values('发件时间')\n",
    "发件.drop_duplicates('运单号',keep='last',inplace=True)"
   ]
  },
  {
   "cell_type": "code",
   "execution_count": 36,
   "metadata": {},
   "outputs": [
    {
     "data": {
      "text/plain": [
       "Index(['配载编号', '运单号', '班线名称', '车牌号', '班车属性', '发车时间', '发件操作人', '接收站点', '接收状态',\n",
       "       '运输方式', '物品价值', '发件站点', '发件时间'],\n",
       "      dtype='object')"
      ]
     },
     "execution_count": 36,
     "metadata": {},
     "output_type": "execute_result"
    }
   ],
   "source": [
    "发件.columns"
   ]
  },
  {
   "cell_type": "code",
   "execution_count": 37,
   "metadata": {},
   "outputs": [
    {
     "data": {
      "text/plain": [
       "Index(['运单号', '受理时间', '发件人地址', '发件人手机', '发件人电话', '发货商品明细', '客户批次号', '区域编号',\n",
       "       '修改站点', '修改人工号', '修改时间', '件数', '货物名称', '体积', '重量', '物品价值', '代收款',\n",
       "       '结算方式', '计费方式', '运费', '保险费', '包装费', '其他费用', '收货人', '收件区域', '收货地址',\n",
       "       '收件人电话', '收件人手机', '客户名称', '接货时间', '受理站点', '写入人工号', '签收单位', '签收时间', '数量',\n",
       "       '补单员', '收件单位', '寄件人', '录单人', '分单站点', '包装类型'],\n",
       "      dtype='object')"
      ]
     },
     "execution_count": 37,
     "metadata": {},
     "output_type": "execute_result"
    }
   ],
   "source": [
    "data_info.columns"
   ]
  },
  {
   "cell_type": "code",
   "execution_count": 38,
   "metadata": {},
   "outputs": [],
   "source": [
    "datas = data_info[['运单号','受理时间','货物名称','物品价值','代收款',\n",
    "         '收货人','收件区域','收货地址','收件人电话','收件人手机',\n",
    "        '补单员','收件单位','录单人','受理站点','分单站点','客户名称','重量','件数','数量','包装类型','体积']]\\\n",
    ".merge(data_凌顶提货[['运单号','入库时间','入库操作人','入库操作站点']],on='运单号',how='left')\\\n",
    ".merge(data_凌顶合包[['运单号','合包号','合包人工号','合包单位','合包时间']],on='运单号',how='left')\\\n",
    ".merge(发件[['配载编号','运单号','发件站点','发件操作人','发件时间','接收站点','车牌号','班线名称','接收状态']],how='left')\\\n",
    ".merge(data_网点到件,on='运单号',how='left')\\\n",
    ".merge(data_三方,on='运单号',how='left')\\\n",
    ".merge(df_today_今日数码到件[['运单号','今日数码到仓','今日数码到仓扫描人',\"今日数码到仓时间\"]],on='运单号',how='left')\\\n",
    ".merge(df_数码到件[['运单号','所有数码到仓','所有数码到仓扫描人','所有数码到仓时间']],on='运单号',how='left')"
   ]
  },
  {
   "cell_type": "code",
   "execution_count": 39,
   "metadata": {},
   "outputs": [
    {
     "data": {
      "text/plain": [
       "0                        人和路长江路玫瑰花园\n",
       "1    龙溪镇龙桥大道埔上路段1865号（幸福公寓）  000000\n",
       "2                卫辉市博资彩印18238690951\n",
       "3                   建设北路汽车北站南200米路西\n",
       "4                         鼓楼区新天地9号楼\n",
       "Name: 收货地址, dtype: object"
      ]
     },
     "execution_count": 39,
     "metadata": {},
     "output_type": "execute_result"
    }
   ],
   "source": [
    "datas['收货地址'].head()"
   ]
  },
  {
   "cell_type": "code",
   "execution_count": 40,
   "metadata": {},
   "outputs": [
    {
     "name": "stdout",
     "output_type": "stream",
     "text": [
      "<class 'pandas.core.frame.DataFrame'>\n",
      "Int64Index: 852682 entries, 0 to 852681\n",
      "Data columns (total 50 columns):\n",
      " #   Column     Non-Null Count   Dtype         \n",
      "---  ------     --------------   -----         \n",
      " 0   运单号        852682 non-null  object        \n",
      " 1   受理时间       852682 non-null  datetime64[ns]\n",
      " 2   货物名称       852681 non-null  object        \n",
      " 3   物品价值       852682 non-null  float64       \n",
      " 4   代收款        852682 non-null  float64       \n",
      " 5   收货人        852682 non-null  object        \n",
      " 6   收件区域       852682 non-null  object        \n",
      " 7   收货地址       852682 non-null  object        \n",
      " 8   收件人电话      852682 non-null  object        \n",
      " 9   收件人手机      852682 non-null  object        \n",
      " 10  补单员        38 non-null      object        \n",
      " 11  收件单位       852680 non-null  object        \n",
      " 12  录单人        852682 non-null  object        \n",
      " 13  受理站点       852682 non-null  object        \n",
      " 14  分单站点       852682 non-null  object        \n",
      " 15  客户名称       852682 non-null  object        \n",
      " 16  重量         852682 non-null  float64       \n",
      " 17  件数         852682 non-null  int64         \n",
      " 18  数量         852682 non-null  float64       \n",
      " 19  包装类型       852682 non-null  object        \n",
      " 20  体积         852682 non-null  float64       \n",
      " 21  入库时间       575215 non-null  datetime64[ns]\n",
      " 22  入库操作人      575215 non-null  object        \n",
      " 23  入库操作站点     575215 non-null  object        \n",
      " 24  合包号        661527 non-null  object        \n",
      " 25  合包人工号      661527 non-null  object        \n",
      " 26  合包单位       661527 non-null  object        \n",
      " 27  合包时间       661527 non-null  datetime64[ns]\n",
      " 28  配载编号       816100 non-null  object        \n",
      " 29  发件站点       816100 non-null  object        \n",
      " 30  发件操作人      816100 non-null  object        \n",
      " 31  发件时间       816100 non-null  datetime64[ns]\n",
      " 32  接收站点       816100 non-null  object        \n",
      " 33  车牌号        629355 non-null  object        \n",
      " 34  班线名称       629355 non-null  object        \n",
      " 35  接收状态       816100 non-null  object        \n",
      " 36  扫描站点       0 non-null       object        \n",
      " 37  扫描人        0 non-null       object        \n",
      " 38  扫描时间       0 non-null       datetime64[ns]\n",
      " 39  快递公司运单号    0 non-null       object        \n",
      " 40  快递公司名称     0 non-null       object        \n",
      " 41  录入时间       0 non-null       datetime64[ns]\n",
      " 42  录入人        0 non-null       object        \n",
      " 43  录入站点       0 non-null       object        \n",
      " 44  今日数码到仓     0 non-null       object        \n",
      " 45  今日数码到仓扫描人  0 non-null       object        \n",
      " 46  今日数码到仓时间   0 non-null       datetime64[ns]\n",
      " 47  所有数码到仓     1162 non-null    object        \n",
      " 48  所有数码到仓扫描人  1162 non-null    object        \n",
      " 49  所有数码到仓时间   1162 non-null    datetime64[ns]\n",
      "dtypes: datetime64[ns](8), float64(5), int64(1), object(36)\n",
      "memory usage: 331.8+ MB\n"
     ]
    }
   ],
   "source": [
    "datas.info()"
   ]
  },
  {
   "cell_type": "code",
   "execution_count": 41,
   "metadata": {},
   "outputs": [],
   "source": [
    "# datas['收件区域']  = datas['收件区域'].fillna('0')\n",
    "# datas['收件地址'] = datas['收件区域'].replace('0','').str.cat(datas['收货地址'])\n",
    "datas['收件地址'] = datas['收货地址']"
   ]
  },
  {
   "cell_type": "code",
   "execution_count": null,
   "metadata": {},
   "outputs": [],
   "source": []
  },
  {
   "cell_type": "markdown",
   "metadata": {},
   "source": []
  },
  {
   "cell_type": "code",
   "execution_count": 42,
   "metadata": {},
   "outputs": [
    {
     "data": {
      "text/plain": [
       "(852682, 51)"
      ]
     },
     "execution_count": 42,
     "metadata": {},
     "output_type": "execute_result"
    }
   ],
   "source": [
    "datas.shape"
   ]
  },
  {
   "cell_type": "code",
   "execution_count": 43,
   "metadata": {},
   "outputs": [
    {
     "data": {
      "text/plain": [
       "(852682, 51)"
      ]
     },
     "execution_count": 43,
     "metadata": {},
     "output_type": "execute_result"
    }
   ],
   "source": [
    "datas.drop_duplicates(subset=['运单号']).shape"
   ]
  },
  {
   "cell_type": "code",
   "execution_count": 44,
   "metadata": {},
   "outputs": [],
   "source": [
    "datas_all = datas.rename(columns={'货物名称':'产品名称','客户名称':'寄件人','物品价值':'声明价值',\n",
    "                     '代收款':'代收货款','收件人手机':'电话','分单站点':'收件网点',\n",
    "                      '受理时间':'录单时间','入库时间':'提货时间','入库操作人':'提货人',\n",
    "                     '入库站点':'提货网点','合包人工号':'合包人','合包单位':'合包站点',\n",
    "                     '发件操作人':'发件人','接收站点':'发件网点','扫描站点':'到件网点',\n",
    "                     '扫描时间':'到件时间','录入时间':'三方单号录入时间','录入人':'三方单号录入人',\n",
    "                     '录入站点':'三方单号录入网点','收货人':'收件人','入库操作站点':'提货网点',\n",
    "                                 '快递公司运单号':'三方运单号','快递公司名称':'三方运输'})"
   ]
  },
  {
   "cell_type": "code",
   "execution_count": 45,
   "metadata": {},
   "outputs": [],
   "source": [
    "# 统一寄件人\n",
    "datas_all['寄件人'] = datas_all['寄件人'].replace('ERP','郑州名片之家电子商务有限公司')\n",
    "datas_all['寄件人'] = datas_all['寄件人'].replace('名片之家平台','测试订单')"
   ]
  },
  {
   "cell_type": "markdown",
   "metadata": {},
   "source": [
    "datas_all = datas_all[['订单号','产品名称','寄件人','声明价值','代收货款','收件人','电话','收件地址',\n",
    "          '收件网点','重量','件数','录单时间','录单人','受理站点','提货时间','提货人','提货网点',\n",
    "          '合包号','合包人','合包时间','发件时间','发件人','发件网点','车牌号','班线名称',\n",
    "          '到件时间','到件网点','三方运输','三方运单号','三方单号录入时间','三方单号录入人','三方单号录入网点',\n",
    "          '今日数码到仓','今日数码到仓扫描人','今日数码到仓时间','所有数码到仓扫描人','所有数码到仓时间','所有数码到仓']]"
   ]
  },
  {
   "cell_type": "markdown",
   "metadata": {},
   "source": [
    "* 奈斯"
   ]
  },
  {
   "cell_type": "code",
   "execution_count": 46,
   "metadata": {},
   "outputs": [],
   "source": [
    "datas_拼接奈斯 = datas_all.merge(data_奈斯提货[['运单号','入库时间']].rename(columns={'入库时间':\"奈斯入库时间\"}).sort_values('奈斯入库时间').drop_duplicates(subset=['运单号'],keep='first'),how='left',on='运单号')\\\n",
    ".merge(data_奈斯合包[['运单号','合包时间']].rename(columns={'合包时间':'奈斯合包时间'}).sort_values('奈斯合包时间').drop_duplicates(subset=['运单号'],keep='last'),on='运单号',how='left')\\\n",
    ".merge(data_奈斯发件[['运单号','发件时间']].rename(columns={'发件时间':'奈斯发件时间'}).sort_values('奈斯发件时间').drop_duplicates(subset=['运单号'],keep='last'),on='运单号',how='left')"
   ]
  },
  {
   "cell_type": "markdown",
   "metadata": {},
   "source": [
    "* 导出"
   ]
  },
  {
   "cell_type": "code",
   "execution_count": 47,
   "metadata": {},
   "outputs": [],
   "source": [
    "sub = pd.read_excel('../渠道排序.xlsx')\n",
    "# sub2 = pd.read_excel('【】判断.xlsx')\n",
    "# sub3 = pd.read_excel('../备注.xlsx',dtype={'运单号':object})"
   ]
  },
  {
   "cell_type": "code",
   "execution_count": 48,
   "metadata": {},
   "outputs": [],
   "source": [
    "datas_拼接奈斯 = datas_拼接奈斯#.merge(sub3,on='运单号',how='left')"
   ]
  },
  {
   "cell_type": "code",
   "execution_count": 49,
   "metadata": {},
   "outputs": [
    {
     "data": {
      "text/plain": [
       "Index(['运单号', '录单时间', '产品名称', '声明价值', '代收货款', '收件人', '收件区域', '收货地址', '收件人电话',\n",
       "       '电话', '补单员', '收件单位', '录单人', '受理站点', '收件网点', '寄件人', '重量', '件数', '数量',\n",
       "       '包装类型', '体积', '提货时间', '提货人', '提货网点', '合包号', '合包人', '合包站点', '合包时间',\n",
       "       '配载编号', '发件站点', '发件人', '发件时间', '发件网点', '车牌号', '班线名称', '接收状态', '到件网点',\n",
       "       '扫描人', '到件时间', '三方运单号', '三方运输', '三方单号录入时间', '三方单号录入人', '三方单号录入网点',\n",
       "       '今日数码到仓', '今日数码到仓扫描人', '今日数码到仓时间', '所有数码到仓', '所有数码到仓扫描人', '所有数码到仓时间',\n",
       "       '收件地址', '奈斯入库时间', '奈斯合包时间', '奈斯发件时间'],\n",
       "      dtype='object')"
      ]
     },
     "execution_count": 49,
     "metadata": {},
     "output_type": "execute_result"
    }
   ],
   "source": [
    "datas_拼接奈斯.columns"
   ]
  },
  {
   "cell_type": "code",
   "execution_count": 50,
   "metadata": {},
   "outputs": [],
   "source": [
    "datas_拼接奈斯['到件网点'].fillna('为空',inplace=True)\n",
    "datas_拼接奈斯['三方运输'].fillna('为空',inplace=True)\n",
    "datas_拼接奈斯['是否到件'] = datas_拼接奈斯['到件网点'].apply(lambda x:0 if x== '为空' else 1)\n",
    "datas_拼接奈斯['是否三方'] = datas_拼接奈斯['三方运输'].apply(lambda x:0 if x== '为空' else 1)\n",
    "datas_拼接奈斯['提货人'].fillna('为空',inplace=True)\n",
    "datas_拼接奈斯['合包人'].fillna('为空',inplace=True)\n",
    "datas_拼接奈斯['发件人'].fillna('为空',inplace=True)\n",
    "datas_拼接奈斯['是否入库'] = datas_拼接奈斯['提货人'].apply(lambda x:0 if x== '为空' else 1)\n",
    "datas_拼接奈斯['是否发件'] = datas_拼接奈斯['发件人'].apply(lambda x:0 if x== '为空' else 1)\n",
    "datas_拼接奈斯['是否合包'] = datas_拼接奈斯['合包人'].apply(lambda x:0 if x== '为空' else 1)"
   ]
  },
  {
   "cell_type": "code",
   "execution_count": 51,
   "metadata": {},
   "outputs": [],
   "source": [
    "def arr_func(x):\n",
    "    level = x.apply(lambda x: '1' if x == 1 else '0')\n",
    "    label = level['是否入库'] + level['是否合包'] + level['是否发件'] + level['是否到件'] + level['是否三方']\n",
    "    d = {\n",
    "        '00000':'未揽',\n",
    "        '00001':'成品仓0操作',\n",
    "        '00010':'成品仓0操作',\n",
    "        '00011':'成品仓0操作',\n",
    "        '00100':'漏操作',\n",
    "        '00101':'漏操作',\n",
    "        '00110':'漏操作',\n",
    "        '00111':'漏操作',\n",
    "        '01000':'漏操作',\n",
    "        '01001':'漏操作',\n",
    "        '01010':'漏操作',\n",
    "        '01011':'漏操作',\n",
    "        '01100':'漏操作',\n",
    "        '01101':'漏操作',\n",
    "        '01110':'漏操作',\n",
    "        '01111':'漏操作',\n",
    "        '10000':'漏操作',\n",
    "        '10001':'漏操作',\n",
    "        '10010':'漏操作',\n",
    "        '10011':'漏操作',\n",
    "        '10100':'漏操作',\n",
    "        '10101':'漏操作',\n",
    "        '10110':'漏操作',\n",
    "        '10101':'漏操作',\n",
    "        '10110':'漏操作',\n",
    "        '10111':'漏操作',\n",
    "        '11000':'漏操作',\n",
    "        '11001':'漏操作',\n",
    "        '11010':'漏操作',\n",
    "        '11011':'漏操作',\n",
    "        '11100':'漏操作',\n",
    "        '11101':'漏操作',\n",
    "        '11110':'漏操作',\n",
    "        '11111':'提合发到三'\n",
    "    }\n",
    "    result = d[label]\n",
    "    return result"
   ]
  },
  {
   "cell_type": "code",
   "execution_count": 52,
   "metadata": {},
   "outputs": [],
   "source": [
    "datas_拼接奈斯['是否0操作'] = datas_拼接奈斯[['是否入库','是否合包','是否发件','是否到件','是否三方']].apply(arr_func,axis=1)"
   ]
  },
  {
   "cell_type": "markdown",
   "metadata": {},
   "source": [
    "* 今日凌顶操作： 凌顶当日发件、数码到件、提货、合包、发件"
   ]
  },
  {
   "cell_type": "code",
   "execution_count": 53,
   "metadata": {},
   "outputs": [],
   "source": [
    "df_today_凌顶合包 = df_today_凌顶合包.loc[df_today_凌顶合包['合包单位']=='凌顶揽众分拨中心',:]\n",
    "df_today_凌顶合包 = df_today_凌顶合包.copy()"
   ]
  },
  {
   "cell_type": "code",
   "execution_count": 54,
   "metadata": {},
   "outputs": [],
   "source": [
    "# 今日凌顶操作 凌顶当日发件、数码到件、提货、合包、发件\n",
    "今日凌顶操作 = df_today_凌顶提货[['运单号']]\\\n",
    ".merge(df_today_凌顶合包[['运单号']],on='运单号',how='outer')\\\n",
    ".merge(df_today_凌顶发件[['运单号']],on='运单号',how='outer')\\\n",
    ".merge(df_today_今日数码到件[['运单号']],on='运单号',how='outer')\\\n",
    ".drop_duplicates(subset=['运单号'])\n",
    "今日凌顶操作['今日凌顶操作'] = '1'"
   ]
  },
  {
   "cell_type": "code",
   "execution_count": 55,
   "metadata": {},
   "outputs": [],
   "source": [
    "data_三方拼接 = datas_拼接奈斯.merge(今日凌顶操作,on='运单号',how='left')\n",
    "df3 = data_三方拼接.merge(sub,on='收件网点',how='left')"
   ]
  },
  {
   "cell_type": "code",
   "execution_count": 56,
   "metadata": {},
   "outputs": [],
   "source": [
    "bins= [-1,1,2,3,20,50,90000]"
   ]
  },
  {
   "cell_type": "code",
   "execution_count": 57,
   "metadata": {},
   "outputs": [],
   "source": [
    "韵达 = [-1,20,50,100,300,500,800,9999999]"
   ]
  },
  {
   "cell_type": "code",
   "execution_count": 58,
   "metadata": {},
   "outputs": [],
   "source": [
    "df3['中通分箱'] = pd.cut(df3['重量'],bins,labels=['1kg以内','2kg以内','3kg以内','20kg以内','50kg以内','50kg以上'])"
   ]
  },
  {
   "cell_type": "code",
   "execution_count": 59,
   "metadata": {},
   "outputs": [],
   "source": [
    "df3['韵达分箱'] = pd.cut(df3['重量'],韵达,labels=['20kg以内','50kg以内','100kg以内','300kg以内','500kg以内','800kg以内','800kg以上'])"
   ]
  },
  {
   "cell_type": "markdown",
   "metadata": {},
   "source": [
    "* 判断重复发件、合包、提货"
   ]
  },
  {
   "cell_type": "code",
   "execution_count": 60,
   "metadata": {},
   "outputs": [],
   "source": [
    "df_today_凌顶发件['今日发件']=\"1\"\n",
    "df_today_凌顶提货['今日提货']=\"1\"\n",
    "df_today_凌顶合包['今日合包'] =\"1\"\n",
    "df_today_凌顶发件.rename(columns={'发件时间':'今日发件时间','发件操作人':'今日发件人'},inplace=True)\n",
    "df_today_凌顶提货.rename(columns={'入库时间':'今日入库时间'},inplace=True)\n",
    "df_today_凌顶合包.rename(columns={'合包时间':'今日合包时间'},inplace=True)"
   ]
  },
  {
   "cell_type": "code",
   "execution_count": 61,
   "metadata": {},
   "outputs": [
    {
     "data": {
      "text/plain": [
       "Index(['配载编号', '运单号', '班线名称', '车牌号', '班车属性', '发车时间', '今日发件人', '接收站点', '接收状态',\n",
       "       '运输方式', '物品价值', '发件站点', '今日发件时间', '今日发件'],\n",
       "      dtype='object')"
      ]
     },
     "execution_count": 61,
     "metadata": {},
     "output_type": "execute_result"
    }
   ],
   "source": [
    "df_today_凌顶发件.columns"
   ]
  },
  {
   "cell_type": "code",
   "execution_count": 62,
   "metadata": {},
   "outputs": [],
   "source": [
    "df3_all = df3.merge(df_today_凌顶提货[['运单号','今日提货','今日入库时间']],how='outer')\\\n",
    ".merge(df_today_凌顶合包[['运单号','今日合包','今日合包时间']],how='outer')\\\n",
    ".merge(df_today_凌顶发件[['运单号','今日发件','今日发件时间','今日发件人']],how='outer')"
   ]
  },
  {
   "cell_type": "code",
   "execution_count": 63,
   "metadata": {},
   "outputs": [],
   "source": [
    "# 判断为首次操作\n",
    "def func(a,b):\n",
    "    if a == b:\n",
    "        return \"1\"\n",
    "    else:\n",
    "        return \"0\""
   ]
  },
  {
   "cell_type": "code",
   "execution_count": 64,
   "metadata": {},
   "outputs": [],
   "source": [
    "df3_all['是否首次入库'] = df3_all.apply(lambda x:func(x['今日入库时间'],x['提货时间']),axis=1)"
   ]
  },
  {
   "cell_type": "code",
   "execution_count": 65,
   "metadata": {},
   "outputs": [],
   "source": [
    "df3_all['是否首次合包'] = df3_all.apply(lambda x:func(x['今日合包时间'],x['合包时间']),axis=1)"
   ]
  },
  {
   "cell_type": "code",
   "execution_count": 66,
   "metadata": {},
   "outputs": [],
   "source": [
    "df3_all['是否首次发件'] = df3_all.apply(lambda x:func(x['今日发件时间'],x['发件时间']),axis=1)"
   ]
  },
  {
   "cell_type": "code",
   "execution_count": 67,
   "metadata": {},
   "outputs": [
    {
     "data": {
      "text/html": [
       "<div>\n",
       "<style scoped>\n",
       "    .dataframe tbody tr th:only-of-type {\n",
       "        vertical-align: middle;\n",
       "    }\n",
       "\n",
       "    .dataframe tbody tr th {\n",
       "        vertical-align: top;\n",
       "    }\n",
       "\n",
       "    .dataframe thead th {\n",
       "        text-align: right;\n",
       "    }\n",
       "</style>\n",
       "<table border=\"1\" class=\"dataframe\">\n",
       "  <thead>\n",
       "    <tr style=\"text-align: right;\">\n",
       "      <th></th>\n",
       "      <th>今日发件时间</th>\n",
       "      <th>发件时间</th>\n",
       "      <th>是否首次发件</th>\n",
       "    </tr>\n",
       "  </thead>\n",
       "  <tbody>\n",
       "  </tbody>\n",
       "</table>\n",
       "</div>"
      ],
      "text/plain": [
       "Empty DataFrame\n",
       "Columns: [今日发件时间, 发件时间, 是否首次发件]\n",
       "Index: []"
      ]
     },
     "execution_count": 67,
     "metadata": {},
     "output_type": "execute_result"
    }
   ],
   "source": [
    "df3_all.loc[df3_all['运单号']=='100494671001'][['今日发件时间','发件时间','是否首次发件']]"
   ]
  },
  {
   "cell_type": "code",
   "execution_count": 68,
   "metadata": {},
   "outputs": [],
   "source": [
    "df3_all['是否首次数码到件'] = df3_all.apply(lambda x:func(x['今日数码到仓时间'],x['所有数码到仓时间']),axis=1)"
   ]
  },
  {
   "cell_type": "code",
   "execution_count": 69,
   "metadata": {},
   "outputs": [
    {
     "data": {
      "text/plain": [
       "Index(['运单号', '录单时间', '产品名称', '声明价值', '代收货款', '收件人', '收件区域', '收货地址', '收件人电话',\n",
       "       '电话', '补单员', '收件单位', '录单人', '受理站点', '收件网点', '寄件人', '重量', '件数', '数量',\n",
       "       '包装类型', '体积', '提货时间', '提货人', '提货网点', '合包号', '合包人', '合包站点', '合包时间',\n",
       "       '配载编号', '发件站点', '发件人', '发件时间', '发件网点', '车牌号', '班线名称', '接收状态', '到件网点',\n",
       "       '扫描人', '到件时间', '三方运单号', '三方运输', '三方单号录入时间', '三方单号录入人', '三方单号录入网点',\n",
       "       '今日数码到仓', '今日数码到仓扫描人', '今日数码到仓时间', '所有数码到仓', '所有数码到仓扫描人', '所有数码到仓时间',\n",
       "       '收件地址', '奈斯入库时间', '奈斯合包时间', '奈斯发件时间', '是否到件', '是否三方', '是否入库', '是否发件',\n",
       "       '是否合包', '是否0操作', '今日凌顶操作', '网点排序', '渠道', '发货', '发货排序', '专线排序', '物流',\n",
       "       '物流排序', '所在市', '市区排序', '省份', '省份排序', '批次', '行政级别', '大区', '销售处', '物流区域',\n",
       "       '地点', '中通分箱', '韵达分箱', '今日提货', '今日入库时间', '今日合包', '今日合包时间', '今日发件',\n",
       "       '今日发件时间', '今日发件人', '是否首次入库', '是否首次合包', '是否首次发件', '是否首次数码到件'],\n",
       "      dtype='object')"
      ]
     },
     "execution_count": 69,
     "metadata": {},
     "output_type": "execute_result"
    }
   ],
   "source": [
    "df3_all.columns"
   ]
  },
  {
   "cell_type": "code",
   "execution_count": 70,
   "metadata": {},
   "outputs": [],
   "source": [
    "datas_all = df3_all[['运单号','产品名称','寄件人','声明价值','代收货款','收件人','电话','收件地址','收件网点','重量','件数','录单时间','录单人','受理站点',\n",
    "        '提货人','提货网点','合包号','合包人','发件站点','发件人','发件网点','到件网点',\n",
    "         '三方运输','三方运单号','三方单号录入时间','三方单号录入人','三方单号录入网点',\n",
    "        '中通分箱','韵达分箱','渠道','今日提货','今日合包','今日发件','今日数码到仓','今日凌顶操作',\n",
    "         '是否入库','是否合包','是否发件','是否到件','是否三方','是否0操作',\n",
    "         '提货时间','今日入库时间',\n",
    "         '合包时间','今日合包时间',\n",
    "         '发件时间','今日发件时间','今日发件人',\n",
    "         '到件时间',\n",
    "         '所有数码到仓时间','今日数码到仓时间',\n",
    "         '是否首次入库','是否首次合包','是否首次发件','是否首次数码到件','奈斯入库时间','奈斯合包时间','奈斯发件时间',\n",
    "         '接收状态','体积','数量','包装类型']]"
   ]
  },
  {
   "cell_type": "code",
   "execution_count": 71,
   "metadata": {},
   "outputs": [
    {
     "data": {
      "text/html": [
       "<div>\n",
       "<style scoped>\n",
       "    .dataframe tbody tr th:only-of-type {\n",
       "        vertical-align: middle;\n",
       "    }\n",
       "\n",
       "    .dataframe tbody tr th {\n",
       "        vertical-align: top;\n",
       "    }\n",
       "\n",
       "    .dataframe thead th {\n",
       "        text-align: right;\n",
       "    }\n",
       "</style>\n",
       "<table border=\"1\" class=\"dataframe\">\n",
       "  <thead>\n",
       "    <tr style=\"text-align: right;\">\n",
       "      <th></th>\n",
       "      <th>运单号</th>\n",
       "      <th>奈斯今日发件时间</th>\n",
       "      <th>奈斯今日发件</th>\n",
       "    </tr>\n",
       "  </thead>\n",
       "  <tbody>\n",
       "  </tbody>\n",
       "</table>\n",
       "</div>"
      ],
      "text/plain": [
       "Empty DataFrame\n",
       "Columns: [运单号, 奈斯今日发件时间, 奈斯今日发件]\n",
       "Index: []"
      ]
     },
     "execution_count": 71,
     "metadata": {},
     "output_type": "execute_result"
    }
   ],
   "source": [
    "df_今日奈斯入库 = df_today_奈斯提货[['运单号','入库时间']].rename(columns={'入库时间':'奈斯今日入库时间'})\n",
    "df_今日奈斯入库['奈斯今日入库']=\"1\"\n",
    "df_今日奈斯入库.drop_duplicates(subset=['运单号'],inplace=True)\n",
    "\n",
    "df_今日奈斯合包 = df_today_奈斯合包[['运单号','合包时间']].rename(columns={'合包时间':'奈斯今日合包时间'})\n",
    "df_今日奈斯合包['奈斯今日合包']=\"1\"\n",
    "df_今日奈斯合包.drop_duplicates(subset=['运单号'],inplace=True)\n",
    "\n",
    "df_今日奈斯发件 = df_today_奈斯发件[['运单号','发件时间']].rename(columns={'发件时间':'奈斯今日发件时间'})\n",
    "df_今日奈斯发件['奈斯今日发件']=\"1\"\n",
    "df_今日奈斯发件.drop_duplicates(subset=['运单号'],inplace=True)"
   ]
  },
  {
   "cell_type": "code",
   "execution_count": 72,
   "metadata": {},
   "outputs": [],
   "source": [
    "完成 = datas_all.merge(df_今日奈斯入库,on='运单号',how='outer')\\\n",
    ".merge(df_今日奈斯合包,on='运单号',how='outer')\\\n",
    ".merge(df_今日奈斯发件,on='运单号',how='outer')"
   ]
  },
  {
   "cell_type": "code",
   "execution_count": 73,
   "metadata": {},
   "outputs": [],
   "source": [
    "datas_完成 = 完成.copy()\n",
    "datas_完成.fillna({'收件网点':'为空'},inplace=True)"
   ]
  },
  {
   "cell_type": "code",
   "execution_count": 74,
   "metadata": {},
   "outputs": [
    {
     "data": {
      "text/plain": [
       "Index(['运单号', '产品名称', '寄件人', '声明价值', '代收货款', '收件人', '电话', '收件地址', '收件网点', '重量',\n",
       "       '件数', '录单时间', '录单人', '受理站点', '提货人', '提货网点', '合包号', '合包人', '发件站点', '发件人',\n",
       "       '发件网点', '到件网点', '三方运输', '三方运单号', '三方单号录入时间', '三方单号录入人', '三方单号录入网点',\n",
       "       '中通分箱', '韵达分箱', '渠道', '今日提货', '今日合包', '今日发件', '今日数码到仓', '今日凌顶操作',\n",
       "       '是否入库', '是否合包', '是否发件', '是否到件', '是否三方', '是否0操作', '提货时间', '今日入库时间',\n",
       "       '合包时间', '今日合包时间', '发件时间', '今日发件时间', '今日发件人', '到件时间', '所有数码到仓时间',\n",
       "       '今日数码到仓时间', '是否首次入库', '是否首次合包', '是否首次发件', '是否首次数码到件', '奈斯入库时间',\n",
       "       '奈斯合包时间', '奈斯发件时间', '接收状态', '体积', '数量', '包装类型', '奈斯今日入库时间', '奈斯今日入库',\n",
       "       '奈斯今日合包时间', '奈斯今日合包', '奈斯今日发件时间', '奈斯今日发件'],\n",
       "      dtype='object')"
      ]
     },
     "execution_count": 74,
     "metadata": {},
     "output_type": "execute_result"
    }
   ],
   "source": [
    "datas_完成.columns"
   ]
  },
  {
   "cell_type": "code",
   "execution_count": 75,
   "metadata": {},
   "outputs": [
    {
     "data": {
      "text/plain": [
       "(852682, 68)"
      ]
     },
     "execution_count": 75,
     "metadata": {},
     "output_type": "execute_result"
    }
   ],
   "source": [
    "datas_完成.shape"
   ]
  },
  {
   "cell_type": "code",
   "execution_count": 76,
   "metadata": {},
   "outputs": [
    {
     "data": {
      "text/plain": [
       "(852682, 68)"
      ]
     },
     "execution_count": 76,
     "metadata": {},
     "output_type": "execute_result"
    }
   ],
   "source": [
    "datas_完成.drop_duplicates('运单号').shape"
   ]
  },
  {
   "cell_type": "code",
   "execution_count": 77,
   "metadata": {},
   "outputs": [],
   "source": [
    "datas_完成['备注']=''"
   ]
  },
  {
   "cell_type": "code",
   "execution_count": 78,
   "metadata": {},
   "outputs": [
    {
     "name": "stdout",
     "output_type": "stream",
     "text": [
      "导出用时671.576583147049s\n"
     ]
    }
   ],
   "source": [
    "import time\n",
    "start_time = time.time()\n",
    "\n",
    "datas_完成.rename(columns={'运单号':'订单号'}).to_excel('./】处理分析/】001全部汇总.xlsx',index=False,encoding='gbk')\n",
    "\n",
    "\n",
    "end_time = time.time()\n",
    "print(\"导出用时{}s\".format(end_time - start_time))"
   ]
  },
  {
   "cell_type": "markdown",
   "metadata": {},
   "source": []
  },
  {
   "cell_type": "markdown",
   "metadata": {},
   "source": [
    "* 导出"
   ]
  },
  {
   "cell_type": "code",
   "execution_count": 79,
   "metadata": {},
   "outputs": [],
   "source": [
    "data_凌顶到件.drop(['大类','货物名称'],axis=1,inplace=True)"
   ]
  },
  {
   "cell_type": "code",
   "execution_count": 80,
   "metadata": {
    "jupyter": {
     "source_hidden": true
    }
   },
   "outputs": [
    {
     "name": "stdout",
     "output_type": "stream",
     "text": [
      "导出用时938.3130013942719s\n"
     ]
    }
   ],
   "source": [
    "start_time = time.time()\n",
    "\n",
    "data_info.to_excel('./》01汇出/】001订单明细.xlsx',index=False,encoding='gbk') # 明细\n",
    "data_凌顶提货.to_excel('./》01汇出/】002凌顶提货.xlsx',index=False,encoding='gbk') # 明细\n",
    "data_奈斯提货.to_excel('./》01汇出/】003大亨提货.xlsx',index=False,encoding='gbk') # 明细\n",
    "data_凌顶合包.to_excel('./》01汇出/】004凌顶合包.xlsx',index=False,encoding='gbk') # 明细\n",
    "data_奈斯合包.to_excel('./》01汇出/】005数码奈斯合包.xlsx',index=False,encoding='gbk') # 明细\n",
    "data_凌顶发件.to_excel('./》01汇出/】006凌顶发件.xlsx',index=False,encoding='gbk') # 明细\n",
    "data_奈斯发件.to_excel('./》01汇出/】007大亨发件.xlsx',index=False,encoding='gbk') # 明细\n",
    "data_凌顶到件.to_excel('./》01汇出/】008凌顶到件.xlsx',index=False,encoding='gbk') # 明细\n",
    "data_自取到件.to_excel('./》01汇出/】009自取到件.xlsx',index=False,encoding='gbk') # 明细\n",
    "data_自取派件.to_excel('./》01汇出/】010自取派件.xlsx',index=False,encoding='gbk') # 明细\n",
    "data_自取签收.to_excel('./》01汇出/】011自取签收.xlsx',index=False,encoding='gbk') # 明细\n",
    "data_自取问题件.to_excel('./》01汇出/】012自取问题件.xlsx',index=False,encoding='gbk') # 明细\n",
    "data_顺丰.to_excel('./》01汇出/】013顺丰.xlsx',index=False,encoding='gbk') # 明细\n",
    "data_韵达.to_excel('./》01汇出/】014韵达.xlsx',index=False,encoding='gbk') # 明细\n",
    "data_中通.to_excel('./》01汇出/】015中通.xlsx',index=False,encoding='gbk') # 明细\n",
    "data_黑豹.to_excel('./》01汇出/】016黑豹.xlsx',index=False,encoding='gbk') # 明细\n",
    "data_德邦.to_excel('./》01汇出/】016德邦.xlsx',index=False,encoding='gbk') # 明细\n",
    "data_达发.to_excel('./》01汇出/】016达发.xlsx',index=False,encoding='gbk') # 明细\n",
    "data_宇鑫.to_excel('./》01汇出/】016宇鑫.xlsx',index=False,encoding='gbk') # 明细\n",
    "data_全部到件.to_excel('./》01汇出/】017全部到件.xlsx',index=False,encoding='gbk') # 明细\n",
    "# data_装卸.to_excel('./》01汇出/】018装车卸车.xlsx',index=False,encoding='gbk') # 明细\n",
    "\n",
    "end_time = time.time()\n",
    "print(\"导出用时{}s\".format(end_time - start_time))"
   ]
  },
  {
   "cell_type": "code",
   "execution_count": 81,
   "metadata": {},
   "outputs": [],
   "source": [
    "# datas1 =data_凌顶提货.merge(pd.concat([data_凌顶合包,data_奈斯合包]),on='运单号',how='outer')\\\n",
    "# .merge(发件,how='outer')\\\n",
    "# .merge(data_网点到件,how='outer')\\\n",
    "# .merge(data_三方,on='运单号',how='outer')\n",
    "# datas1.drop_duplicates(subset='运单号',inplace=True)"
   ]
  },
  {
   "cell_type": "code",
   "execution_count": 82,
   "metadata": {},
   "outputs": [],
   "source": [
    "# df1 = datas1.merge(data_info[['运单号','受理时间']],on='运单号',how='outer')"
   ]
  },
  {
   "cell_type": "code",
   "execution_count": 83,
   "metadata": {},
   "outputs": [],
   "source": [
    "# def ab_func(x):\n",
    "#     level = x.apply(lambda x: '1' if x == 1 else '0')\n",
    "#     label = level['是否入库'] + level['是否合包'] + level['是否发件']\n",
    "#     d = {\n",
    "#         '000':'未揽',\n",
    "#         '001':'未提未合已发',\n",
    "#         '010':'未提已合未发',\n",
    "#         '011':'未提已合已发',\n",
    "#         '100':'已提未合未发',\n",
    "#         '101':'已提未合已发',\n",
    "#         '111':'正常',\n",
    "#         '110':'已提已合未发'        \n",
    "#     }\n",
    "#     result = d[label]\n",
    "#     return result"
   ]
  },
  {
   "cell_type": "code",
   "execution_count": 84,
   "metadata": {},
   "outputs": [],
   "source": [
    "# datas_完成['仓内动作'] = datas_完成[['是否入库','是否合包','是否发件']].apply(ab_func,axis=1)"
   ]
  },
  {
   "cell_type": "code",
   "execution_count": 85,
   "metadata": {},
   "outputs": [],
   "source": [
    "# df1.loc[df1['受理时间'].isnull()].to_excel('❤之前的.xlsx',index=False,encoding='gbk')"
   ]
  }
 ],
 "metadata": {
  "kernelspec": {
   "display_name": "Python 3",
   "language": "python",
   "name": "python3"
  },
  "language_info": {
   "codemirror_mode": {
    "name": "ipython",
    "version": 3
   },
   "file_extension": ".py",
   "mimetype": "text/x-python",
   "name": "python",
   "nbconvert_exporter": "python",
   "pygments_lexer": "ipython3",
   "version": "3.8.8"
  }
 },
 "nbformat": 4,
 "nbformat_minor": 4
}
